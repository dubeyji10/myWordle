{
  "nbformat": 4,
  "nbformat_minor": 0,
  "metadata": {
    "colab": {
      "name": "wordle1.ipynb",
      "provenance": [],
      "collapsed_sections": [],
      "toc_visible": true,
      "authorship_tag": "ABX9TyNg0Ib1gfwPd1hc2jrY57L/",
      "include_colab_link": true
    },
    "kernelspec": {
      "name": "python3",
      "display_name": "Python 3"
    },
    "language_info": {
      "name": "python"
    }
  },
  "cells": [
    {
      "cell_type": "markdown",
      "metadata": {
        "id": "view-in-github",
        "colab_type": "text"
      },
      "source": [
        "<a href=\"https://colab.research.google.com/github/dubeyji10/myWordle/blob/main/Wordle_sample.ipynb\" target=\"_parent\"><img src=\"https://colab.research.google.com/assets/colab-badge.svg\" alt=\"Open In Colab\"/></a>"
      ]
    },
    {
      "cell_type": "markdown",
      "source": [
        "# A simple game like worlde"
      ],
      "metadata": {
        "id": "KZXo9UZbkEY9"
      }
    },
    {
      "cell_type": "code",
      "execution_count": 1,
      "metadata": {
        "id": "WrhUWyRZaKqh"
      },
      "outputs": [],
      "source": [
        "ans = ['c','h','a','o','s']"
      ]
    },
    {
      "cell_type": "code",
      "source": [
        "signal = { 0: 'means not in ans[RED]',\n",
        "           1: 'means it exists but in wrong place[YELLOW]',\n",
        "           2: 'write character at right place[GREEN]'\n",
        "}\n",
        "signal"
      ],
      "metadata": {
        "colab": {
          "base_uri": "https://localhost:8080/"
        },
        "id": "LqIvM7FkbH8c",
        "outputId": "e7a51807-7f38-4144-d589-0f640db1baf9"
      },
      "execution_count": 2,
      "outputs": [
        {
          "output_type": "execute_result",
          "data": {
            "text/plain": [
              "{0: 'means not in ans[RED]',\n",
              " 1: 'means it exists but in wrong place[YELLOW]',\n",
              " 2: 'write character at right place[GREEN]'}"
            ]
          },
          "metadata": {},
          "execution_count": 2
        }
      ]
    },
    {
      "cell_type": "code",
      "source": [
        "# ans_dict = {ans[i]:i for i in range(len(ans))}\n",
        "for i in range(len(ans)):\n",
        "  print(ans[i],'-->',i)\n",
        "# print(\"ans dict : \",ans_dict)"
      ],
      "metadata": {
        "colab": {
          "base_uri": "https://localhost:8080/"
        },
        "id": "2VqVsV4nbyHz",
        "outputId": "bc78fafd-ab65-45e8-a8a4-e63afafec6c2"
      },
      "execution_count": 3,
      "outputs": [
        {
          "output_type": "stream",
          "name": "stdout",
          "text": [
            "c --> 0\n",
            "h --> 1\n",
            "a --> 2\n",
            "o --> 3\n",
            "s --> 4\n"
          ]
        }
      ]
    },
    {
      "cell_type": "code",
      "source": [
        "ans_dict = {ans[i]:i for i in range(len(ans))}\n",
        "ans_dict2 = {i:ans[i] for i in range(len(ans))}\n",
        "print(ans_dict,'\\n\\n',ans_dict2)"
      ],
      "metadata": {
        "colab": {
          "base_uri": "https://localhost:8080/"
        },
        "id": "Mmo5xuvtcSLW",
        "outputId": "3e8d6e2a-5169-4d13-ede0-47220fc266cd"
      },
      "execution_count": 4,
      "outputs": [
        {
          "output_type": "stream",
          "name": "stdout",
          "text": [
            "{'c': 0, 'h': 1, 'a': 2, 'o': 3, 's': 4} \n",
            "\n",
            " {0: 'c', 1: 'h', 2: 'a', 3: 'o', 4: 's'}\n"
          ]
        }
      ]
    },
    {
      "cell_type": "code",
      "source": [
        "def enter_word():\n",
        "  entry = []\n",
        "  signals_list = []\n",
        "  for i in range(5):\n",
        "    entry.append(input(\"enter character:\"))\n",
        "  # print(\"entry created ->\",entry)\n",
        "  return entry"
      ],
      "metadata": {
        "id": "MVmSJ7wEaOBf"
      },
      "execution_count": 5,
      "outputs": []
    },
    {
      "cell_type": "code",
      "source": [
        "entry_returned = enter_word()"
      ],
      "metadata": {
        "colab": {
          "base_uri": "https://localhost:8080/"
        },
        "id": "uEhpL6T0a1pO",
        "outputId": "d2c92bd9-06ed-4312-d721-c74e69107139"
      },
      "execution_count": 6,
      "outputs": [
        {
          "output_type": "stream",
          "name": "stdout",
          "text": [
            "enter character:a\n",
            "enter character:b\n",
            "enter character:c\n",
            "enter character:d\n",
            "enter character:e\n",
            "entry created -> ['a', 'b', 'c', 'd', 'e']\n"
          ]
        }
      ]
    },
    {
      "cell_type": "code",
      "source": [
        "ans_dict2"
      ],
      "metadata": {
        "colab": {
          "base_uri": "https://localhost:8080/"
        },
        "id": "dM4KdSlIeio7",
        "outputId": "1429b150-0b80-4556-ce4c-5c4cf073afac"
      },
      "execution_count": 11,
      "outputs": [
        {
          "output_type": "execute_result",
          "data": {
            "text/plain": [
              "{0: 'c', 1: 'h', 2: 'a', 3: 'o', 4: 's'}"
            ]
          },
          "metadata": {},
          "execution_count": 11
        }
      ]
    },
    {
      "cell_type": "code",
      "source": [
        "def return_signal(entry_returned):\n",
        "  signals_array = []\n",
        "  # return array of signals\n",
        "  for i in range(5):\n",
        "    if entry_returned[i] in ans:\n",
        "      # print(entry_returned[i],'is in ans')\n",
        "      if entry_returned[i]==ans_dict2[i]:\n",
        "        # print(2,'..',signal[2])\n",
        "        signals_array.append(2)\n",
        "      else:\n",
        "        # print(1,'..',signal[1])\n",
        "        signals_array.append(1)\n",
        "\n",
        "    else:\n",
        "      # print(entry_returned[i],'->is not in ans')\n",
        "      # print(0,'..',signal[0])\n",
        "      signals_array.append(0)\n",
        "  return signals_array"
      ],
      "metadata": {
        "id": "n8McTHjaa6W-"
      },
      "execution_count": 25,
      "outputs": []
    },
    {
      "cell_type": "code",
      "source": [
        "return_signal(entry_returned)"
      ],
      "metadata": {
        "colab": {
          "base_uri": "https://localhost:8080/"
        },
        "id": "dg2WCR9GgsEb",
        "outputId": "34e498e8-ca6e-4aa2-8ede-aac1496f754c"
      },
      "execution_count": 26,
      "outputs": [
        {
          "output_type": "stream",
          "name": "stdout",
          "text": [
            "a is in ans\n",
            "1 .. means it exists but in wrong place[YELLOW]\n",
            "b ->is not in ans\n",
            "0 .. means not in ans[RED]\n",
            "c is in ans\n",
            "1 .. means it exists but in wrong place[YELLOW]\n",
            "d ->is not in ans\n",
            "0 .. means not in ans[RED]\n",
            "e ->is not in ans\n",
            "0 .. means not in ans[RED]\n"
          ]
        },
        {
          "output_type": "execute_result",
          "data": {
            "text/plain": [
              "[1, 0, 1, 0, 0]"
            ]
          },
          "metadata": {},
          "execution_count": 26
        }
      ]
    },
    {
      "cell_type": "code",
      "source": [
        "ans"
      ],
      "metadata": {
        "colab": {
          "base_uri": "https://localhost:8080/"
        },
        "id": "x4JrTI4CgyAe",
        "outputId": "01fa4f6f-6955-43c6-c41b-30847cf34d4f"
      },
      "execution_count": 27,
      "outputs": [
        {
          "output_type": "execute_result",
          "data": {
            "text/plain": [
              "['c', 'h', 'a', 'o', 's']"
            ]
          },
          "metadata": {},
          "execution_count": 27
        }
      ]
    },
    {
      "cell_type": "code",
      "source": [
        "sample_run = ['c','h','a','p','p']"
      ],
      "metadata": {
        "id": "8bHJ3_lBg9b1"
      },
      "execution_count": 28,
      "outputs": []
    },
    {
      "cell_type": "code",
      "source": [
        "return_signal(sample_run)"
      ],
      "metadata": {
        "colab": {
          "base_uri": "https://localhost:8080/"
        },
        "id": "ML8n0HsqhBSn",
        "outputId": "b1dd9de8-3128-4ea5-bfc6-11986f745f64"
      },
      "execution_count": 29,
      "outputs": [
        {
          "output_type": "stream",
          "name": "stdout",
          "text": [
            "c is in ans\n",
            "2 .. write character at right place[GREEN]\n",
            "h is in ans\n",
            "2 .. write character at right place[GREEN]\n",
            "a is in ans\n",
            "2 .. write character at right place[GREEN]\n",
            "p ->is not in ans\n",
            "0 .. means not in ans[RED]\n",
            "p ->is not in ans\n",
            "0 .. means not in ans[RED]\n"
          ]
        },
        {
          "output_type": "execute_result",
          "data": {
            "text/plain": [
              "[2, 2, 2, 0, 0]"
            ]
          },
          "metadata": {},
          "execution_count": 29
        }
      ]
    },
    {
      "cell_type": "code",
      "source": [
        "sample_run2 = ['o','h','a','p','c']\n",
        "return_signal(sample_run2)"
      ],
      "metadata": {
        "colab": {
          "base_uri": "https://localhost:8080/"
        },
        "id": "y8Y6xKuRhFj4",
        "outputId": "e30c1ae2-4780-4415-826e-5705903b888e"
      },
      "execution_count": 30,
      "outputs": [
        {
          "output_type": "stream",
          "name": "stdout",
          "text": [
            "o is in ans\n",
            "1 .. means it exists but in wrong place[YELLOW]\n",
            "h is in ans\n",
            "2 .. write character at right place[GREEN]\n",
            "a is in ans\n",
            "2 .. write character at right place[GREEN]\n",
            "p ->is not in ans\n",
            "0 .. means not in ans[RED]\n",
            "c is in ans\n",
            "1 .. means it exists but in wrong place[YELLOW]\n"
          ]
        },
        {
          "output_type": "execute_result",
          "data": {
            "text/plain": [
              "[1, 2, 2, 0, 1]"
            ]
          },
          "metadata": {},
          "execution_count": 30
        }
      ]
    },
    {
      "cell_type": "code",
      "source": [
        "tries = 5\n",
        "while(tries>0):\n",
        "  #enter word\n",
        "  entrY = enter_word()\n",
        "  if entrY!=ans:\n",
        "    return_signal(entrY)\n",
        "  else:\n",
        "    print(\"correct answer\")\n",
        "    break\n",
        "    print()\n",
        "  print(\"tries left : \",tries-1)\n",
        "  tries-=1\n",
        "  print('-'*50)\n"
      ],
      "metadata": {
        "colab": {
          "base_uri": "https://localhost:8080/"
        },
        "id": "c3b9I2QPhOYv",
        "outputId": "0c889114-6bf7-44af-87a0-1bc1e61c8147"
      },
      "execution_count": 32,
      "outputs": [
        {
          "output_type": "stream",
          "name": "stdout",
          "text": [
            "enter character:c\n",
            "enter character:h\n",
            "enter character:a\n",
            "enter character:o\n",
            "enter character:p\n",
            "entry created -> ['c', 'h', 'a', 'o', 'p']\n",
            "c is in ans\n",
            "2 .. write character at right place[GREEN]\n",
            "h is in ans\n",
            "2 .. write character at right place[GREEN]\n",
            "a is in ans\n",
            "2 .. write character at right place[GREEN]\n",
            "o is in ans\n",
            "2 .. write character at right place[GREEN]\n",
            "p ->is not in ans\n",
            "0 .. means not in ans[RED]\n",
            "tries left :  4\n",
            "--------------------------------------------------\n",
            "enter character:c\n",
            "enter character:h\n",
            "enter character:a\n",
            "enter character:o\n",
            "enter character:s\n",
            "entry created -> ['c', 'h', 'a', 'o', 's']\n",
            "correct answer\n"
          ]
        }
      ]
    },
    {
      "cell_type": "code",
      "source": [
        ""
      ],
      "metadata": {
        "id": "9qm0LolJk3wC"
      },
      "execution_count": null,
      "outputs": []
    }
  ]
}