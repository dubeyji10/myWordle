{
  "nbformat": 4,
  "nbformat_minor": 0,
  "metadata": {
    "colab": {
      "name": "Wordle_Colored_Console.ipynb",
      "provenance": [],
      "collapsed_sections": [],
      "toc_visible": true,
      "authorship_tag": "ABX9TyNaXwqwQBHh/pUQRrYanJxn",
      "include_colab_link": true
    },
    "kernelspec": {
      "name": "python3",
      "display_name": "Python 3"
    },
    "language_info": {
      "name": "python"
    }
  },
  "cells": [
    {
      "cell_type": "markdown",
      "metadata": {
        "id": "view-in-github",
        "colab_type": "text"
      },
      "source": [
        "<a href=\"https://colab.research.google.com/github/dubeyji10/myWordle/blob/main/Wordle_Colored_Console.ipynb\" target=\"_parent\"><img src=\"https://colab.research.google.com/assets/colab-badge.svg\" alt=\"Open In Colab\"/></a>"
      ]
    },
    {
      "cell_type": "code",
      "source": [
        "from termcolor import colored\n"
      ],
      "metadata": {
        "id": "1mh_n_yIsI7l"
      },
      "execution_count": 34,
      "outputs": []
    },
    {
      "cell_type": "code",
      "source": [
        "print(colored('hello', 'red'), colored('world', 'green'))\n"
      ],
      "metadata": {
        "colab": {
          "base_uri": "https://localhost:8080/"
        },
        "id": "h7G1zwQhsMAB",
        "outputId": "b0eba3bc-88d9-46ee-8bdd-d523be1d9647"
      },
      "execution_count": 35,
      "outputs": [
        {
          "output_type": "stream",
          "name": "stdout",
          "text": [
            "\u001b[31mhello\u001b[0m \u001b[32mworld\u001b[0m\n"
          ]
        }
      ]
    },
    {
      "cell_type": "markdown",
      "source": [
        "# A simple game like worlde"
      ],
      "metadata": {
        "id": "KZXo9UZbkEY9"
      }
    },
    {
      "cell_type": "code",
      "execution_count": 1,
      "metadata": {
        "id": "WrhUWyRZaKqh"
      },
      "outputs": [],
      "source": [
        "ans = ['c','h','a','o','s']"
      ]
    },
    {
      "cell_type": "code",
      "source": [
        "signal = { 0: 'means not in ans[RED]',\n",
        "           1: 'means it exists but in wrong place[YELLOW]',\n",
        "           2: 'write character at right place[GREEN]'\n",
        "}\n",
        "signal"
      ],
      "metadata": {
        "colab": {
          "base_uri": "https://localhost:8080/"
        },
        "id": "LqIvM7FkbH8c",
        "outputId": "e7a51807-7f38-4144-d589-0f640db1baf9"
      },
      "execution_count": 2,
      "outputs": [
        {
          "output_type": "execute_result",
          "data": {
            "text/plain": [
              "{0: 'means not in ans[RED]',\n",
              " 1: 'means it exists but in wrong place[YELLOW]',\n",
              " 2: 'write character at right place[GREEN]'}"
            ]
          },
          "metadata": {},
          "execution_count": 2
        }
      ]
    },
    {
      "cell_type": "code",
      "source": [
        "ans_dict = {ans[i]:i for i in range(len(ans))}\n",
        "ans_dict2 = {i:ans[i] for i in range(len(ans))}\n",
        "print(ans_dict,'\\n\\n',ans_dict2)"
      ],
      "metadata": {
        "colab": {
          "base_uri": "https://localhost:8080/"
        },
        "id": "Mmo5xuvtcSLW",
        "outputId": "3e8d6e2a-5169-4d13-ede0-47220fc266cd"
      },
      "execution_count": 4,
      "outputs": [
        {
          "output_type": "stream",
          "name": "stdout",
          "text": [
            "{'c': 0, 'h': 1, 'a': 2, 'o': 3, 's': 4} \n",
            "\n",
            " {0: 'c', 1: 'h', 2: 'a', 3: 'o', 4: 's'}\n"
          ]
        }
      ]
    },
    {
      "cell_type": "code",
      "source": [
        "def enter_word():\n",
        "  entry = []\n",
        "  for i in range(5):\n",
        "    inp = input(\"enter a character: \").lower()\n",
        "    if ord('a')<=ord(inp)<=ord('z'):\n",
        "      entry.append(inp)\n",
        "    else:\n",
        "      entry.append(input(\"!!!!!enter a letter!!!!!: \").lower())\n",
        "  # print(\"entry created ->\",entry)\n",
        "  return entry"
      ],
      "metadata": {
        "id": "MVmSJ7wEaOBf"
      },
      "execution_count": 93,
      "outputs": []
    },
    {
      "cell_type": "code",
      "source": [
        "entry_returned = enter_word()"
      ],
      "metadata": {
        "colab": {
          "base_uri": "https://localhost:8080/"
        },
        "id": "uEhpL6T0a1pO",
        "outputId": "70e32983-9c36-406d-f9ee-98c96556cf11"
      },
      "execution_count": 94,
      "outputs": [
        {
          "name": "stdout",
          "output_type": "stream",
          "text": [
            "enter a character:1\n",
            "!!!!!enter a letter:a\n",
            "enter a character:b\n",
            "enter a character:c\n",
            "enter a character:d\n",
            "enter a character:2\n",
            "!!!!!enter a letter:e\n"
          ]
        }
      ]
    },
    {
      "cell_type": "code",
      "source": [
        "entry_returned"
      ],
      "metadata": {
        "colab": {
          "base_uri": "https://localhost:8080/"
        },
        "id": "gjwUsbb6w0ku",
        "outputId": "ac683a11-a2e0-4500-c93c-b4b78dd6ade7"
      },
      "execution_count": 95,
      "outputs": [
        {
          "output_type": "execute_result",
          "data": {
            "text/plain": [
              "['a', 'b', 'c', 'd', 'e']"
            ]
          },
          "metadata": {},
          "execution_count": 95
        }
      ]
    },
    {
      "cell_type": "code",
      "source": [
        "ans_dict2"
      ],
      "metadata": {
        "colab": {
          "base_uri": "https://localhost:8080/"
        },
        "id": "dM4KdSlIeio7",
        "outputId": "83973b16-9541-4ef9-a157-3a7c0dd3888b"
      },
      "execution_count": 96,
      "outputs": [
        {
          "output_type": "execute_result",
          "data": {
            "text/plain": [
              "{0: 'c', 1: 'h', 2: 'a', 3: 'o', 4: 's'}"
            ]
          },
          "metadata": {},
          "execution_count": 96
        }
      ]
    },
    {
      "cell_type": "code",
      "source": [
        "ans"
      ],
      "metadata": {
        "colab": {
          "base_uri": "https://localhost:8080/"
        },
        "id": "x4JrTI4CgyAe",
        "outputId": "1dc79619-f107-48c2-8407-f52b7c217cbc"
      },
      "execution_count": 74,
      "outputs": [
        {
          "output_type": "execute_result",
          "data": {
            "text/plain": [
              "['c', 'h', 'a', 'o', 's']"
            ]
          },
          "metadata": {},
          "execution_count": 74
        }
      ]
    },
    {
      "cell_type": "code",
      "source": [
        "\n",
        "signal_color = { 0: 'red',\n",
        "           1: 'yellow',\n",
        "           2: 'green'\n",
        "}\n",
        "signal_color"
      ],
      "metadata": {
        "colab": {
          "base_uri": "https://localhost:8080/"
        },
        "id": "9qm0LolJk3wC",
        "outputId": "06652a46-fbe8-4488-a215-102448ce0686"
      },
      "execution_count": 98,
      "outputs": [
        {
          "output_type": "execute_result",
          "data": {
            "text/plain": [
              "{0: 'red', 1: 'yellow', 2: 'green'}"
            ]
          },
          "metadata": {},
          "execution_count": 98
        }
      ]
    },
    {
      "cell_type": "markdown",
      "source": [
        "print(colored('hello', 'red'), colored('world', 'green'))\n"
      ],
      "metadata": {
        "id": "3OVbFE8-sa5f"
      }
    },
    {
      "cell_type": "code",
      "source": [
        "def return_signal_colors(entry_returned):\n",
        "  signals_array = []\n",
        "  # return array of signals\n",
        "  for i in range(5):\n",
        "    if entry_returned[i] in ans:\n",
        "      # print(entry_returned[i],'is in ans')\n",
        "      if entry_returned[i]==ans_dict2[i]:\n",
        "        # print(2,'..',signal[2])\n",
        "        print(colored(entry_returned[i],signal_color[2]),end='')\n",
        "        signals_array.append(2)\n",
        "      else:\n",
        "        # print(1,'..',signal[1])\n",
        "        print(colored(entry_returned[i],signal_color[1]),end='')\n",
        "        signals_array.append(1)\n",
        "    else:\n",
        "      # print(entry_returned[i],'->is not in ans')\n",
        "      # print(0,'..',signal[0])\n",
        "      print(colored(entry_returned[i],signal_color[0]),end='')\n",
        "      signals_array.append(0)\n",
        "  print('\\n')\n",
        "  print('-'*50,end='\\n')\n",
        "  return signals_array"
      ],
      "metadata": {
        "id": "OBKmNnCcshiM"
      },
      "execution_count": 99,
      "outputs": []
    },
    {
      "cell_type": "code",
      "source": [
        "return_signal_colors(sample_run)"
      ],
      "metadata": {
        "colab": {
          "base_uri": "https://localhost:8080/"
        },
        "id": "BZEbT9s6tD7A",
        "outputId": "6168f549-77c3-424e-9b25-5bae3d32dc79"
      },
      "execution_count": 100,
      "outputs": [
        {
          "output_type": "stream",
          "name": "stdout",
          "text": [
            "\u001b[32mc\u001b[0m\u001b[32mh\u001b[0m\u001b[32ma\u001b[0m\u001b[31mp\u001b[0m\u001b[31mp\u001b[0m\n",
            "\n",
            "--------------------------------------------------\n"
          ]
        },
        {
          "output_type": "execute_result",
          "data": {
            "text/plain": [
              "[2, 2, 2, 0, 0]"
            ]
          },
          "metadata": {},
          "execution_count": 100
        }
      ]
    },
    {
      "cell_type": "code",
      "source": [
        "return_signal_colors(sample_run2)\n"
      ],
      "metadata": {
        "colab": {
          "base_uri": "https://localhost:8080/"
        },
        "id": "5TvwBkt0tG5y",
        "outputId": "73d93158-a3ce-46f9-d098-920a10a679e3"
      },
      "execution_count": 101,
      "outputs": [
        {
          "output_type": "stream",
          "name": "stdout",
          "text": [
            "\u001b[33mo\u001b[0m\u001b[32mh\u001b[0m\u001b[32ma\u001b[0m\u001b[31mp\u001b[0m\u001b[33mc\u001b[0m\n",
            "\n",
            "--------------------------------------------------\n"
          ]
        },
        {
          "output_type": "execute_result",
          "data": {
            "text/plain": [
              "[1, 2, 2, 0, 1]"
            ]
          },
          "metadata": {},
          "execution_count": 101
        }
      ]
    },
    {
      "cell_type": "code",
      "source": [
        "return_signal_colors(['c','s','a','s','l'])\n"
      ],
      "metadata": {
        "colab": {
          "base_uri": "https://localhost:8080/"
        },
        "id": "_Zj49eqrtUTS",
        "outputId": "b5e1c62b-3e45-4b19-f31e-3b6ed1e214e1"
      },
      "execution_count": 102,
      "outputs": [
        {
          "output_type": "stream",
          "name": "stdout",
          "text": [
            "\u001b[32mc\u001b[0m\u001b[33ms\u001b[0m\u001b[32ma\u001b[0m\u001b[33ms\u001b[0m\u001b[31ml\u001b[0m\n",
            "\n",
            "--------------------------------------------------\n"
          ]
        },
        {
          "output_type": "execute_result",
          "data": {
            "text/plain": [
              "[2, 1, 2, 1, 0]"
            ]
          },
          "metadata": {},
          "execution_count": 102
        }
      ]
    },
    {
      "cell_type": "code",
      "source": [
        "return_signal_colors(['h','c','a','o','l'])\n"
      ],
      "metadata": {
        "colab": {
          "base_uri": "https://localhost:8080/"
        },
        "id": "0MBvIwRitZu3",
        "outputId": "95ebe37a-08d6-4b26-be5b-356ea0a891a8"
      },
      "execution_count": 103,
      "outputs": [
        {
          "output_type": "stream",
          "name": "stdout",
          "text": [
            "\u001b[33mh\u001b[0m\u001b[33mc\u001b[0m\u001b[32ma\u001b[0m\u001b[32mo\u001b[0m\u001b[31ml\u001b[0m\n",
            "\n",
            "--------------------------------------------------\n"
          ]
        },
        {
          "output_type": "execute_result",
          "data": {
            "text/plain": [
              "[1, 1, 2, 2, 0]"
            ]
          },
          "metadata": {},
          "execution_count": 103
        }
      ]
    },
    {
      "cell_type": "code",
      "source": [
        "def play():\n",
        "  tries = 5\n",
        "  while(tries>0):\n",
        "    #enter word\n",
        "    entrY = enter_word()\n",
        "    if entrY!=ans:\n",
        "      return_signal_colors(entrY)\n",
        "    else:\n",
        "      entrYstr = \"\"\n",
        "      for i in entrY:\n",
        "        entrYstr +=i\n",
        "      print(colored(entrYstr,'green'))\n",
        "      print(\"\\n\\ncorrect answer\")\n",
        "      break\n",
        "      print()\n",
        "    print(\"tries left : \",tries-1)\n",
        "    tries-=1\n",
        "    print('-'*50)\n",
        "\n",
        "def main():\n",
        "  play()"
      ],
      "metadata": {
        "id": "X_RSbvzGuIEr"
      },
      "execution_count": 104,
      "outputs": []
    },
    {
      "cell_type": "code",
      "source": [
        "main()"
      ],
      "metadata": {
        "colab": {
          "base_uri": "https://localhost:8080/"
        },
        "id": "BjnXwZfEuvX-",
        "outputId": "a3da7777-960a-443f-b627-8ec873fcae5b"
      },
      "execution_count": 105,
      "outputs": [
        {
          "output_type": "stream",
          "name": "stdout",
          "text": [
            "enter a character:1\n",
            "!!!!!enter a letter:a\n",
            "enter a character:c\n",
            "enter a character:o\n",
            "enter a character:s\n",
            "enter a character:h\n",
            "\u001b[33ma\u001b[0m\u001b[33mc\u001b[0m\u001b[33mo\u001b[0m\u001b[33ms\u001b[0m\u001b[33mh\u001b[0m\n",
            "\n",
            "--------------------------------------------------\n",
            "tries left :  4\n",
            "--------------------------------------------------\n",
            "enter a character:p\n",
            "enter a character:a\n",
            "enter a character:q\n",
            "enter a character:e\n",
            "enter a character:r\n",
            "\u001b[31mp\u001b[0m\u001b[33ma\u001b[0m\u001b[31mq\u001b[0m\u001b[31me\u001b[0m\u001b[31mr\u001b[0m\n",
            "\n",
            "--------------------------------------------------\n",
            "tries left :  3\n",
            "--------------------------------------------------\n",
            "enter a character:c\n",
            "enter a character:h\n",
            "enter a character:o\n",
            "enter a character:l\n",
            "enter a character:s\n",
            "\u001b[32mc\u001b[0m\u001b[32mh\u001b[0m\u001b[33mo\u001b[0m\u001b[31ml\u001b[0m\u001b[32ms\u001b[0m\n",
            "\n",
            "--------------------------------------------------\n",
            "tries left :  2\n",
            "--------------------------------------------------\n",
            "enter a character:c\n",
            "enter a character:h\n",
            "enter a character:a\n",
            "enter a character:o\n",
            "enter a character:s\n",
            "\u001b[32mchaos\u001b[0m\n",
            "\n",
            "\n",
            "correct answer\n"
          ]
        }
      ]
    },
    {
      "cell_type": "code",
      "source": [
        ""
      ],
      "metadata": {
        "id": "3QfBv2xluwKO"
      },
      "execution_count": null,
      "outputs": []
    }
  ]
}